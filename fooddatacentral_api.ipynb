{
 "cells": [
  {
   "cell_type": "code",
   "execution_count": 34,
   "id": "84654b7d",
   "metadata": {},
   "outputs": [
    {
     "name": "stdout",
     "output_type": "stream",
     "text": [
      "Enter food: arroz\n"
     ]
    },
    {
     "ename": "ZeroDivisionError",
     "evalue": "division by zero",
     "output_type": "error",
     "traceback": [
      "\u001b[1;31m---------------------------------------------------------------------------\u001b[0m",
      "\u001b[1;31mZeroDivisionError\u001b[0m                         Traceback (most recent call last)",
      "\u001b[1;32m<ipython-input-34-508ba79e99d6>\u001b[0m in \u001b[0;36m<module>\u001b[1;34m\u001b[0m\n\u001b[0;32m     60\u001b[0m                     \u001b[1;31m#print(item['description'])\u001b[0m\u001b[1;33m\u001b[0m\u001b[1;33m\u001b[0m\u001b[1;33m\u001b[0m\u001b[0m\n\u001b[0;32m     61\u001b[0m                     \u001b[1;32mbreak\u001b[0m\u001b[1;33m\u001b[0m\u001b[1;33m\u001b[0m\u001b[0m\n\u001b[1;32m---> 62\u001b[1;33m     \u001b[0msugar_amount\u001b[0m \u001b[1;33m=\u001b[0m \u001b[1;34mf'{sum(total_sugar)/len(total_sugar):.2f}'\u001b[0m\u001b[1;31m# calculate an average with all\u001b[0m\u001b[1;33m\u001b[0m\u001b[1;33m\u001b[0m\u001b[0m\n\u001b[0m\u001b[0;32m     63\u001b[0m \u001b[1;31m# products found and displays only 2 decimal points\u001b[0m\u001b[1;33m\u001b[0m\u001b[1;33m\u001b[0m\u001b[1;33m\u001b[0m\u001b[0m\n\u001b[0;32m     64\u001b[0m     cur.execute('''INSERT OR IGNORE INTO Food (name, sugar) \n",
      "\u001b[1;31mZeroDivisionError\u001b[0m: division by zero"
     ]
    }
   ],
   "source": [
    "# Retrieve amount of sugar (in grams/100g of product)\n",
    "# from database in FoodData Central using its API\n",
    "import urllib.request, urllib.parse, urllib.error\n",
    "import json\n",
    "import ssl\n",
    "import sqlite3\n",
    "\n",
    "serviceurl = 'https://api.nal.usda.gov/fdc/v1/'\n",
    "\n",
    "# Ignore SSL certificate errors\n",
    "ctx = ssl.create_default_context()\n",
    "ctx.check_hostname = False\n",
    "ctx.verify_mode = ssl.CERT_NONE\n",
    "\n",
    "conn = sqlite3.connect('fooddata.sqlite')\n",
    "cur = conn.cursor()\n",
    "\n",
    "cur.execute('''\n",
    "            CREATE TABLE IF NOT EXISTS Food\n",
    "            (id INTEGER PRIMARY KEY UNIQUE, name TEXT UNIQUE, sugar FLOAT)''')\n",
    "food = input('Enter food: ')\n",
    "\n",
    "parms = dict()\n",
    "parms['query'] = food\n",
    "url = serviceurl + 'foods/search?' + urllib.parse.urlencode(parms) + '&api_key=aS5Lif7rRLEVRryTh4U8sHRwhvKabORUINcCh6oI'\n",
    "\n",
    "#print('Retrieving', url)\n",
    "uh = urllib.request.urlopen(url, context=ctx)\n",
    "data = uh.read().decode()\n",
    "#print('Retrieved', len(data), 'characters')\n",
    "\n",
    "try:\n",
    "    js = json.loads(data)\n",
    "except:\n",
    "    js = None\n",
    "# As there are many products from one keyword I concentrate on the raw product\n",
    "# Still, even with 'raw' in the name, there are variations. For eg.:\n",
    "# search for keyword: 'banana' gives descriptions: 1)banana, raw; 2)pepper, banana, raw, etc.\n",
    "# so I put the length of the description in a list and find the index of the min value\n",
    "# (get the most basic description). Then I print the value (total sugar) of the same index\n",
    " \n",
    "len_description = list() \n",
    "value_list = list()\n",
    "\n",
    "for item in js['foods']: # js is a dictionary\n",
    "    if ', raw' in item['lowercaseDescription']: # find only raw items\n",
    "        for item2 in item['foodNutrients']:\n",
    "            if item2['nutrientName'] == 'Sugars, total including NLEA':\n",
    "                len_description.append(len(item['description'])) # keeps track of size of description\n",
    "                value_list.append(item2['value'])\n",
    "# In the case that there is no 'raw' product in the search                \n",
    "if len(len_description) == 0:\n",
    "    total_sugar = list()\n",
    "    for item in js['foods']:\n",
    "        if item['lowercaseDescription']==food: # matches search with item description\n",
    "#            print(item['description'])\n",
    "            for item2 in item['foodNutrients']:\n",
    "                if item2['nutrientName'] == 'Sugars, total including NLEA':\n",
    "                    total_sugar.append(item2['value'])\n",
    "                    #print(item['description'])\n",
    "                    break\n",
    "    sugar_amount = f'{sum(total_sugar)/len(total_sugar):.2f}'# calculate an average with all\n",
    "# products found and displays only 2 decimal points\n",
    "    cur.execute('''INSERT OR IGNORE INTO Food (name, sugar) \n",
    "            VALUES (?, ?)''', (food, sugar_amount))\n",
    "    print('Total sugar (g) in 100g:', sugar_amount)\n",
    "\n",
    "else:\n",
    "    index_min = min(range(len(len_description)), key=len_description.__getitem__) # finds index of shortest description\n",
    "    cur.execute('''INSERT OR IGNORE INTO Food (name, sugar) \n",
    "            VALUES (?, ?)''', (food+', raw', value_list[index_min]))\n",
    "    print('Total sugar (g) in 100g of RAW product:', value_list[index_min])\n",
    "conn.commit()\n",
    "cur.close()\n"
   ]
  },
  {
   "cell_type": "code",
   "execution_count": null,
   "id": "8671ba89",
   "metadata": {},
   "outputs": [],
   "source": []
  }
 ],
 "metadata": {
  "kernelspec": {
   "display_name": "Python 3",
   "language": "python",
   "name": "python3"
  },
  "language_info": {
   "codemirror_mode": {
    "name": "ipython",
    "version": 3
   },
   "file_extension": ".py",
   "mimetype": "text/x-python",
   "name": "python",
   "nbconvert_exporter": "python",
   "pygments_lexer": "ipython3",
   "version": "3.8.8"
  }
 },
 "nbformat": 4,
 "nbformat_minor": 5
}
